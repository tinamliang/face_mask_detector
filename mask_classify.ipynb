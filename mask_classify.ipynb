{
 "cells": [
  {
   "cell_type": "code",
   "execution_count": 1,
   "metadata": {},
   "outputs": [],
   "source": [
    "# Importing libraries.\n",
    "import numpy as np\n",
    "import pandas as pd\n",
    "import os\n",
    "import cv2\n",
    "import matplotlib.pyplot as plt\n",
    "from sklearn.model_selection import train_test_split\n",
    "from sklearn.metrics import classification_report, confusion_matrix\n",
    "from tensorflow.keras.applications.vgg16 import VGG16, preprocess_input\n",
    "from tensorflow.keras.layers import Input, Dense, Flatten\n",
    "from tensorflow.keras.models import Model, load_model\n",
    "from tensorflow.keras.preprocessing.image import ImageDataGenerator\n",
    "from tensorflow.keras.utils import to_categorical\n",
    "from skimage import io"
   ]
  },
  {
   "cell_type": "code",
   "execution_count": 2,
   "metadata": {},
   "outputs": [
    {
     "name": "stdout",
     "output_type": "stream",
     "text": [
      "{'without_mask': 0, 'with_mask': 1}\n"
     ]
    }
   ],
   "source": [
    "data_path = 'dataset'\n",
    "categories = os.listdir(data_path)\n",
    "labels = [i for i in range(len(categories))]\n",
    "label_dict = dict(zip(categories, labels))\n",
    "print(label_dict)"
   ]
  },
  {
   "cell_type": "code",
   "execution_count": 3,
   "metadata": {},
   "outputs": [],
   "source": [
    "img_size = (160, 160) #image size \n",
    "data = []\n",
    "target = []"
   ]
  },
  {
   "cell_type": "code",
   "execution_count": 4,
   "metadata": {},
   "outputs": [],
   "source": [
    "\n",
    "for category in categories: #without_mask and with_mask\n",
    "  folder_path = os.path.join(data_path, category) #Getting the subfolder path\n",
    "  img_names = os.listdir(folder_path) #Listing all items in that subfolder\n",
    "\n",
    "  for img_name in img_names: #All the images in that subfolder\n",
    "    img_path = os.path.join(folder_path, img_name) #Getting the image path\n",
    "    img = io.imread(img_path) #Reading the image \n",
    "    #print(img)\n",
    "    img = cv2.cvtColor(img, cv2.COLOR_BGR2RGB) #Converting from BGR to RGB\n",
    "\n",
    "    try:\n",
    "      resized = cv2.resize(img, img_size) #Image resizing\n",
    "\n",
    "      data.append(resized)\n",
    "      target.append(label_dict[category])\n",
    "\n",
    "    except Exception as e:\n",
    "      print(\"Exception: \", e)"
   ]
  },
  {
   "cell_type": "code",
   "execution_count": 5,
   "metadata": {},
   "outputs": [],
   "source": [
    "data = np.array(data)/255.0 #Rescaling\n",
    "data = np.reshape(data, (data.shape[0], img_size[0], img_size[1], 3)) #Reshaping \n",
    "target = np.array(target)\n",
    "target = to_categorical(target)\n"
   ]
  },
  {
   "cell_type": "code",
   "execution_count": 6,
   "metadata": {},
   "outputs": [],
   "source": [
    "X_train, X_test, y_train, y_test = train_test_split(data, target, test_size = 0.2, shuffle = True)\n",
    "X_val, X_test, y_val, y_test = train_test_split(X_test, y_test, test_size = 0.5, shuffle = True)"
   ]
  },
  {
   "cell_type": "code",
   "execution_count": 7,
   "metadata": {},
   "outputs": [],
   "source": [
    "datagen = ImageDataGenerator( # Data Augmentation\n",
    "        rotation_range=15,\n",
    "        zoom_range = 0.15,  \n",
    "        width_shift_range=0.1, \n",
    "        height_shift_range=0.1)"
   ]
  },
  {
   "cell_type": "code",
   "execution_count": 23,
   "metadata": {},
   "outputs": [
    {
     "name": "stdout",
     "output_type": "stream",
     "text": [
      "Found 3833 images belonging to 2 classes.\n"
     ]
    }
   ],
   "source": [
    "imgs_ = datagen.flow_from_directory(\"dataset/\",\n",
    "                                     batch_size = 5,\n",
    "                                     target_size=(150, 150),\n",
    "                                     class_mode= 'binary'\n",
    "                                    )"
   ]
  },
  {
   "cell_type": "code",
   "execution_count": 8,
   "metadata": {},
   "outputs": [],
   "source": [
    "vgg = VGG16(input_shape = (160, 160, 3), weights = 'imagenet', include_top = False)\n"
   ]
  },
  {
   "cell_type": "code",
   "execution_count": 9,
   "metadata": {},
   "outputs": [],
   "source": [
    "for layer in vgg.layers: # Setting all VGG16 layers false for training.\n",
    "  layer.trainable = False"
   ]
  },
  {
   "cell_type": "code",
   "execution_count": 10,
   "metadata": {},
   "outputs": [
    {
     "name": "stdout",
     "output_type": "stream",
     "text": [
      "Model: \"model\"\n",
      "_________________________________________________________________\n",
      "Layer (type)                 Output Shape              Param #   \n",
      "=================================================================\n",
      "input_1 (InputLayer)         [(None, 160, 160, 3)]     0         \n",
      "_________________________________________________________________\n",
      "block1_conv1 (Conv2D)        (None, 160, 160, 64)      1792      \n",
      "_________________________________________________________________\n",
      "block1_conv2 (Conv2D)        (None, 160, 160, 64)      36928     \n",
      "_________________________________________________________________\n",
      "block1_pool (MaxPooling2D)   (None, 80, 80, 64)        0         \n",
      "_________________________________________________________________\n",
      "block2_conv1 (Conv2D)        (None, 80, 80, 128)       73856     \n",
      "_________________________________________________________________\n",
      "block2_conv2 (Conv2D)        (None, 80, 80, 128)       147584    \n",
      "_________________________________________________________________\n",
      "block2_pool (MaxPooling2D)   (None, 40, 40, 128)       0         \n",
      "_________________________________________________________________\n",
      "block3_conv1 (Conv2D)        (None, 40, 40, 256)       295168    \n",
      "_________________________________________________________________\n",
      "block3_conv2 (Conv2D)        (None, 40, 40, 256)       590080    \n",
      "_________________________________________________________________\n",
      "block3_conv3 (Conv2D)        (None, 40, 40, 256)       590080    \n",
      "_________________________________________________________________\n",
      "block3_pool (MaxPooling2D)   (None, 20, 20, 256)       0         \n",
      "_________________________________________________________________\n",
      "block4_conv1 (Conv2D)        (None, 20, 20, 512)       1180160   \n",
      "_________________________________________________________________\n",
      "block4_conv2 (Conv2D)        (None, 20, 20, 512)       2359808   \n",
      "_________________________________________________________________\n",
      "block4_conv3 (Conv2D)        (None, 20, 20, 512)       2359808   \n",
      "_________________________________________________________________\n",
      "block4_pool (MaxPooling2D)   (None, 10, 10, 512)       0         \n",
      "_________________________________________________________________\n",
      "block5_conv1 (Conv2D)        (None, 10, 10, 512)       2359808   \n",
      "_________________________________________________________________\n",
      "block5_conv2 (Conv2D)        (None, 10, 10, 512)       2359808   \n",
      "_________________________________________________________________\n",
      "block5_conv3 (Conv2D)        (None, 10, 10, 512)       2359808   \n",
      "_________________________________________________________________\n",
      "block5_pool (MaxPooling2D)   (None, 5, 5, 512)         0         \n",
      "_________________________________________________________________\n",
      "flatten (Flatten)            (None, 12800)             0         \n",
      "_________________________________________________________________\n",
      "dense_1 (Dense)              (None, 64)                819264    \n",
      "_________________________________________________________________\n",
      "dense (Dense)                (None, 2)                 130       \n",
      "=================================================================\n",
      "Total params: 15,534,082\n",
      "Trainable params: 819,394\n",
      "Non-trainable params: 14,714,688\n",
      "_________________________________________________________________\n",
      "None\n"
     ]
    }
   ],
   "source": [
    "x = Flatten()(vgg.output)\n",
    "\n",
    "prediction = Dense(units = 2, activation = 'softmax')(Dense(units = 64, activation = 'relu')(x)) # Adding dense layer\n",
    "\n",
    "model = Model(inputs = vgg.input, outputs = prediction) # Joining the pre-training convolutional layers and dense layers\n",
    "\n",
    "print(model.summary())"
   ]
  },
  {
   "cell_type": "code",
   "execution_count": 11,
   "metadata": {},
   "outputs": [],
   "source": [
    "model.compile(loss = 'categorical_crossentropy', optimizer = 'adam', metrics = ['accuracy'])\n"
   ]
  },
  {
   "cell_type": "code",
   "execution_count": 12,
   "metadata": {},
   "outputs": [
    {
     "name": "stdout",
     "output_type": "stream",
     "text": [
      "Epoch 1/11\n",
      "96/96 [==============================] - 153s 2s/step - loss: 0.2638 - accuracy: 0.8878 - val_loss: 0.0649 - val_accuracy: 0.9791\n",
      "Epoch 2/11\n",
      "96/96 [==============================] - 162s 2s/step - loss: 0.0827 - accuracy: 0.9720 - val_loss: 0.0489 - val_accuracy: 0.9843\n",
      "Epoch 3/11\n",
      "96/96 [==============================] - 169s 2s/step - loss: 0.0681 - accuracy: 0.9772 - val_loss: 0.0325 - val_accuracy: 0.9869\n",
      "Epoch 4/11\n",
      "96/96 [==============================] - 197s 2s/step - loss: 0.0532 - accuracy: 0.9843 - val_loss: 0.0475 - val_accuracy: 0.9843\n",
      "Epoch 5/11\n",
      "96/96 [==============================] - 159s 2s/step - loss: 0.0299 - accuracy: 0.9918 - val_loss: 0.0275 - val_accuracy: 0.9869\n",
      "Epoch 6/11\n",
      "96/96 [==============================] - 157s 2s/step - loss: 0.0338 - accuracy: 0.9853 - val_loss: 0.0214 - val_accuracy: 0.9896\n",
      "Epoch 7/11\n",
      "96/96 [==============================] - 160s 2s/step - loss: 0.0349 - accuracy: 0.9879 - val_loss: 0.0190 - val_accuracy: 0.9948\n",
      "Epoch 8/11\n",
      "96/96 [==============================] - 166s 2s/step - loss: 0.0197 - accuracy: 0.9948 - val_loss: 0.0118 - val_accuracy: 0.9974\n",
      "Epoch 9/11\n",
      "96/96 [==============================] - 165s 2s/step - loss: 0.0197 - accuracy: 0.9928 - val_loss: 0.0321 - val_accuracy: 0.9869\n",
      "Epoch 10/11\n",
      "96/96 [==============================] - 155s 2s/step - loss: 0.0167 - accuracy: 0.9951 - val_loss: 0.0210 - val_accuracy: 0.9948\n",
      "Epoch 11/11\n",
      "96/96 [==============================] - 161s 2s/step - loss: 0.0238 - accuracy: 0.9909 - val_loss: 0.0164 - val_accuracy: 0.9948\n"
     ]
    }
   ],
   "source": [
    "history = model.fit(datagen.flow(X_train, y_train, batch_size=32),  epochs=11, validation_data = (X_val, y_val))\n"
   ]
  },
  {
   "cell_type": "code",
   "execution_count": 16,
   "metadata": {},
   "outputs": [
    {
     "data": {
      "image/png": "[encoded data removed]",
      "text/plain": [
       "<Figure size 432x288 with 1 Axes>"
      ]
     },
     "metadata": {
      "needs_background": "light"
     },
     "output_type": "display_data"
    }
   ],
   "source": [
    "plt.plot(np.arange(0, 11), history.history['val_loss'], label='val_loss')\n",
    "plt.plot(np.arange(0, 11), history.history['loss'], label = 'loss')\n",
    "plt.plot(np.arange(0, 11), history.history['accuracy'], label = 'accuracy')\n",
    "plt.plot(np.arange(0, 11), history.history['val_accuracy'], label = 'val_accuracy')\n",
    "plt.legend()\n",
    "plt.show()\n"
   ]
  },
  {
   "cell_type": "code",
   "execution_count": 25,
   "metadata": {},
   "outputs": [],
   "source": [
    "model.save(\"maskclassifier.model\", save_format = \"h5\")"
   ]
  }
 ],
 "metadata": {
  "interpreter": {
   "hash": "1df983b910996cb3f01687c27c702b690abf3e9959b8282b50a3f692d59a66f9"
  },
  "kernelspec": {
   "display_name": "Python 3.6.5 64-bit",
   "language": "python",
   "name": "python3"
  },
  "language_info": {
   "codemirror_mode": {
    "name": "ipython",
    "version": 3
   },
   "file_extension": ".py",
   "mimetype": "text/x-python",
   "name": "python",
   "nbconvert_exporter": "python",
   "pygments_lexer": "ipython3",
   "version": "3.6.5"
  },
  "orig_nbformat": 4
 },
 "nbformat": 4,
 "nbformat_minor": 2
}
